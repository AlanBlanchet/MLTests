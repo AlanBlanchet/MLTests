{
 "cells": [
  {
   "cell_type": "code",
   "execution_count": null,
   "metadata": {},
   "outputs": [],
   "source": [
    "import numpy as np\n",
    "import pandas as pd\n",
    "from matplotlib import pyplot as plt\n",
    "from sklearn.model_selection import StratifiedShuffleSplit, GridSearchCV\n",
    "from sklearn.neighbors import KNeighborsClassifier\n",
    "from sklearn.preprocessing import LabelEncoder\n",
    "from sklearn.metrics import accuracy_score, log_loss\n",
    "from sklearn.svm import SVC, LinearSVC, NuSVC\n"
   ]
  },
  {
   "cell_type": "code",
   "execution_count": null,
   "metadata": {},
   "outputs": [],
   "source": [
    "df_train = pd.read_csv(\"datasets/feuilles/dataset.csv\")\n",
    "df_train.head()\n"
   ]
  },
  {
   "cell_type": "code",
   "execution_count": null,
   "metadata": {},
   "outputs": [],
   "source": [
    "df_test = pd.read_csv(\"datasets/feuilles/test.csv\")\n",
    "df_test.head()\n"
   ]
  },
  {
   "cell_type": "code",
   "execution_count": null,
   "metadata": {},
   "outputs": [],
   "source": [
    "df_train.isnull().sum().sort_values()\n"
   ]
  },
  {
   "cell_type": "code",
   "execution_count": null,
   "metadata": {},
   "outputs": [],
   "source": [
    "le = LabelEncoder().fit(df_train.species)\n",
    "labels = le.transform(df_train.species)\n",
    "labels\n"
   ]
  },
  {
   "cell_type": "code",
   "execution_count": null,
   "metadata": {},
   "outputs": [],
   "source": [
    "classes = list(le.classes_)\n",
    "len(classes), classes\n"
   ]
  },
  {
   "cell_type": "code",
   "execution_count": null,
   "metadata": {},
   "outputs": [],
   "source": [
    "df_train.drop([\"species\", \"id\"], axis=1, inplace=True)\n",
    "df_test.drop([\"id\"], axis=1, inplace=True)\n"
   ]
  },
  {
   "cell_type": "code",
   "execution_count": null,
   "metadata": {},
   "outputs": [],
   "source": [
    "X = df_train.values\n",
    "y = labels\n"
   ]
  },
  {
   "cell_type": "code",
   "execution_count": null,
   "metadata": {},
   "outputs": [],
   "source": [
    "split = StratifiedShuffleSplit(n_splits=1, test_size=0.25)\n",
    "split.get_n_splits(X, y)\n"
   ]
  },
  {
   "cell_type": "code",
   "execution_count": null,
   "metadata": {},
   "outputs": [],
   "source": [
    "for train_index, test_index in split.split(X, y):\n",
    "    X_train, X_test = X[train_index], X[test_index]\n",
    "    y_train, y_test = y[train_index], y[test_index]\n"
   ]
  },
  {
   "cell_type": "code",
   "execution_count": null,
   "metadata": {},
   "outputs": [],
   "source": [
    "knc = KNeighborsClassifier(n_neighbors=5)\n",
    "knc.fit(X_train, y_train)\n",
    "\n",
    "pred = knc.predict(X_test)\n",
    "acc = accuracy_score(y_test, pred)\n",
    "acc\n"
   ]
  },
  {
   "cell_type": "code",
   "execution_count": null,
   "metadata": {},
   "outputs": [],
   "source": [
    "params = dict(n_neighbors=range(2, 15, 2), weights=[\"uniform\", \"distance\"])\n",
    "gs = GridSearchCV(KNeighborsClassifier(), param_grid=params, cv=5)\n",
    "gs.fit(X_train, y_train)\n",
    "res = pd.DataFrame(gs.cv_results_)\n",
    "for i in [x for x in res.columns if \"time\" in x or \"split\" in x]:\n",
    "    res.drop(i, axis=1, inplace=True)\n",
    "res\n"
   ]
  },
  {
   "cell_type": "code",
   "execution_count": null,
   "metadata": {},
   "outputs": [],
   "source": [
    "fig, axs = plt.subplots(1, 2, sharey=True, figsize=(12, 5))\n",
    "\n",
    "weights = res.param_weights.unique()\n",
    "\n",
    "for i, weight in enumerate(weights):\n",
    "    axs[i].set_title(f\"scores for {weight} per neighbors\")\n",
    "    x = range(2, 15, 2)\n",
    "    y = res.loc[res.param_weights == weight, \"mean_test_score\"]\n",
    "    axs[i].plot(x, y)\n"
   ]
  },
  {
   "cell_type": "code",
   "execution_count": null,
   "metadata": {},
   "outputs": [],
   "source": [
    "gs.best_params_\n"
   ]
  },
  {
   "attachments": {},
   "cell_type": "markdown",
   "metadata": {},
   "source": [
    "# SVM"
   ]
  },
  {
   "cell_type": "code",
   "execution_count": null,
   "metadata": {},
   "outputs": [],
   "source": [
    "params = dict(C=range(1, 7), kernel=[\"rbf\", \"poly\", \"linear\"])\n",
    "gs = GridSearchCV(SVC(), param_grid=params, cv=5)\n",
    "gs.fit(X_train, y_train)\n",
    "res = pd.DataFrame(gs.cv_results_)\n",
    "for i in [x for x in res.columns if \"time\" in x or \"split\" in x]:\n",
    "    res.drop(i, axis=1, inplace=True)\n",
    "res.sort_values(by=\"rank_test_score\")\n"
   ]
  },
  {
   "cell_type": "code",
   "execution_count": null,
   "metadata": {},
   "outputs": [],
   "source": [
    "kernels = res.param_kernel.unique()\n",
    "\n",
    "fig, axs = plt.subplots(1, len(kernels), sharey=True, figsize=(12, 5))\n",
    "\n",
    "for i, kernel in enumerate(kernels):\n",
    "    axs[i].set_title(f\"scores for {kernel}\")\n",
    "    x = range(int(len(res.param_kernel) / len(kernels)))\n",
    "    y = res.loc[res.param_kernel == kernel, \"mean_test_score\"]\n",
    "    axs[i].plot(x, y)\n"
   ]
  }
 ],
 "metadata": {
  "kernelspec": {
   "display_name": "oc",
   "language": "python",
   "name": "python3"
  },
  "language_info": {
   "codemirror_mode": {
    "name": "ipython",
    "version": 3
   },
   "file_extension": ".py",
   "mimetype": "text/x-python",
   "name": "python",
   "nbconvert_exporter": "python",
   "pygments_lexer": "ipython3",
   "version": "3.9.16"
  },
  "vscode": {
   "interpreter": {
    "hash": "e297204aacfc4597d7d358135a658faf9a53ab85f698c95c4e6ba1d206a216bb"
   }
  }
 },
 "nbformat": 4,
 "nbformat_minor": 2
}
