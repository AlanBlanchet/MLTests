{
 "cells": [
  {
   "cell_type": "code",
   "execution_count": 50,
   "metadata": {},
   "outputs": [
    {
     "data": {
      "text/plain": [
       "<torch._C.Generator at 0x7ff7ec19e8b0>"
      ]
     },
     "execution_count": 50,
     "metadata": {},
     "output_type": "execute_result"
    }
   ],
   "source": [
    "import torch\n",
    "import torch.nn as nn\n",
    "\n",
    "torch.manual_seed(1234)"
   ]
  },
  {
   "cell_type": "code",
   "execution_count": 51,
   "metadata": {},
   "outputs": [
    {
     "data": {
      "text/plain": [
       "tensor([[5., 1.],\n",
       "        [6., 5.]])"
      ]
     },
     "execution_count": 51,
     "metadata": {},
     "output_type": "execute_result"
    }
   ],
   "source": [
    "X = torch.randint(10, (2,2), ).float()\n",
    "X"
   ]
  },
  {
   "cell_type": "code",
   "execution_count": 52,
   "metadata": {},
   "outputs": [
    {
     "data": {
      "text/plain": [
       "AdaptiveAvgPool1d(output_size=1)"
      ]
     },
     "execution_count": 52,
     "metadata": {},
     "output_type": "execute_result"
    }
   ],
   "source": [
    "pool = nn.AdaptiveAvgPool1d(1)\n",
    "pool"
   ]
  },
  {
   "cell_type": "code",
   "execution_count": 53,
   "metadata": {},
   "outputs": [
    {
     "data": {
      "text/plain": [
       "tensor([[3.0000],\n",
       "        [5.5000]])"
      ]
     },
     "execution_count": 53,
     "metadata": {},
     "output_type": "execute_result"
    }
   ],
   "source": [
    "pool(X)"
   ]
  },
  {
   "cell_type": "code",
   "execution_count": 54,
   "metadata": {},
   "outputs": [
    {
     "data": {
      "text/plain": [
       "torch.Size([1, 64, 5])"
      ]
     },
     "execution_count": 54,
     "metadata": {},
     "output_type": "execute_result"
    }
   ],
   "source": [
    "m = nn.AdaptiveAvgPool1d(5)\n",
    "input = torch.randn(1, 64, 8)\n",
    "output = m(input)\n",
    "output.shape"
   ]
  },
  {
   "cell_type": "code",
   "execution_count": 55,
   "metadata": {},
   "outputs": [
    {
     "data": {
      "text/plain": [
       "tensor([[-1.6563, -1.4151, -0.1897,  1.7860, -0.0295, -0.2446, -0.5917,  0.0851],\n",
       "        [-0.4024, -0.1688, -0.7295, -2.3339,  0.5690, -0.3689,  1.3491,  1.5738],\n",
       "        [-0.4139,  0.0513, -1.3811,  0.8958,  0.9138,  1.1533,  0.5870,  1.7935],\n",
       "        [ 0.6153, -0.5206, -1.7862,  0.0206,  0.2363,  0.0920, -0.1961, -0.5081],\n",
       "        [-1.4909, -0.7994,  1.4661,  0.2993, -0.1920,  1.0108, -1.6116,  1.0756],\n",
       "        [ 0.0224,  0.2284, -0.1856,  0.4137, -1.3052,  0.3292, -1.0489,  0.5993],\n",
       "        [-1.4955, -0.7526, -0.6525,  2.4224, -0.1384,  1.4555,  1.2022, -0.4833],\n",
       "        [ 0.6929, -2.3074,  0.4205,  0.2500,  0.2971, -0.7516,  0.5605,  0.8605],\n",
       "        [ 1.4007, -1.0216, -0.5113, -0.5124, -0.6501,  1.9048, -1.8408,  0.9628],\n",
       "        [ 0.6991, -1.7233,  0.0584, -0.2683,  1.6771, -0.1949,  0.3164,  1.4717]])"
      ]
     },
     "execution_count": 55,
     "metadata": {},
     "output_type": "execute_result"
    }
   ],
   "source": [
    "m = nn.Dropout(p=0.5)\n",
    "input = torch.randn(10, 8)\n",
    "input"
   ]
  },
  {
   "cell_type": "code",
   "execution_count": 56,
   "metadata": {},
   "outputs": [
    {
     "data": {
      "text/plain": [
       "tensor([[-3.3127, -2.8302, -0.3793,  3.5721, -0.0589, -0.0000, -0.0000,  0.0000],\n",
       "        [-0.8048, -0.0000, -1.4589, -4.6679,  1.1380, -0.0000,  2.6981,  3.1476],\n",
       "        [-0.8277,  0.1025, -0.0000,  0.0000,  1.8277,  2.3065,  0.0000,  3.5870],\n",
       "        [ 1.2305, -0.0000, -3.5724,  0.0000,  0.0000,  0.0000, -0.3921, -0.0000],\n",
       "        [-2.9819, -1.5988,  0.0000,  0.5985, -0.0000,  0.0000, -0.0000,  0.0000],\n",
       "        [ 0.0000,  0.0000, -0.3713,  0.0000, -2.6105,  0.6584, -0.0000,  0.0000],\n",
       "        [-0.0000, -0.0000, -0.0000,  4.8449, -0.2768,  0.0000,  2.4043, -0.9666],\n",
       "        [ 0.0000, -0.0000,  0.0000,  0.5001,  0.5941, -1.5032,  1.1211,  0.0000],\n",
       "        [ 2.8014, -0.0000, -1.0226, -0.0000, -0.0000,  0.0000, -0.0000,  1.9257],\n",
       "        [ 1.3983, -0.0000,  0.1169, -0.5366,  3.3542, -0.3898,  0.6329,  2.9435]])"
      ]
     },
     "execution_count": 56,
     "metadata": {},
     "output_type": "execute_result"
    }
   ],
   "source": [
    "output = m(input)\n",
    "output"
   ]
  },
  {
   "cell_type": "code",
   "execution_count": 57,
   "metadata": {},
   "outputs": [
    {
     "data": {
      "text/plain": [
       "tensor([[ 0.1557,  0.6457, -0.8066,  0.6305,  0.9396, -1.1102,  0.0076, -1.0987],\n",
       "        [ 1.1491,  0.0163,  0.0612, -0.1040,  0.9702, -0.7979,  0.9474,  0.5919],\n",
       "        [ 0.5431,  0.7498,  0.1238,  0.9495, -1.1080, -1.1848, -1.4867, -1.1119],\n",
       "        [ 1.2741,  0.1503,  0.3640,  0.6738,  0.1218,  1.5987,  0.4411,  1.3639],\n",
       "        [-0.6977,  0.6453, -2.9267, -0.1020,  1.6282,  2.1635, -0.6939, -0.6784],\n",
       "        [-0.7705,  1.2134,  0.8028,  1.0002,  1.4745,  1.1294,  1.4856, -0.6763],\n",
       "        [-0.5482,  0.6185, -1.0135,  1.4148, -1.7715,  0.7818, -0.6357, -0.3934],\n",
       "        [ 1.0218,  1.0363,  1.2032,  0.2405, -0.6921,  0.5878,  1.2261,  1.1008],\n",
       "        [ 0.7118,  0.1631, -0.9765, -1.4167, -0.2295, -0.8685,  0.0774,  1.1841],\n",
       "        [ 2.1842, -0.4091, -0.0667,  0.5155,  1.4136, -2.0170, -1.3915,  1.3255]])"
      ]
     },
     "execution_count": 57,
     "metadata": {},
     "output_type": "execute_result"
    }
   ],
   "source": [
    "m = nn.AlphaDropout(p=0.5)\n",
    "input = torch.round(torch.randn(10, 8), decimals=4)\n",
    "input"
   ]
  },
  {
   "cell_type": "code",
   "execution_count": 58,
   "metadata": {},
   "outputs": [
    {
     "data": {
      "text/plain": [
       "tensor([[ 0.9172, -0.7792,  0.0642,  1.3381, -0.7792, -0.2049, -0.7792, -0.7792],\n",
       "        [-0.7792, -0.7792,  0.8334, -0.7792,  1.6392,  0.0719, -0.7792,  1.3039],\n",
       "        [ 1.2606,  1.4438, -0.7792, -0.7792, -0.7792, -0.2710, -0.7792, -0.2064],\n",
       "        [-0.7792, -0.7792, -0.7792, -0.7792,  0.8872, -0.7792,  1.1702,  1.9882],\n",
       "        [ 0.1607,  1.3512, -0.7792,  0.6888,  2.2224, -0.7792,  0.1641, -0.7792],\n",
       "        [ 0.0962, -0.7792, -0.7792, -0.7792, -0.7792, -0.7792,  2.0960,  0.1797],\n",
       "        [ 0.2933, -0.7792, -0.7792,  2.0333, -0.7792, -0.7792,  0.2157,  0.4305],\n",
       "        [-0.7792,  1.6978,  1.8457, -0.7792, -0.7792, -0.7792,  1.8660,  1.7549],\n",
       "        [ 1.4101, -0.7792, -0.0864, -0.4766,  0.5758,  0.0094, -0.7792,  1.8288],\n",
       "        [ 2.7153, -0.7792, -0.7792,  1.2361, -0.7792, -0.7792, -0.7792, -0.7792]])"
      ]
     },
     "execution_count": 58,
     "metadata": {},
     "output_type": "execute_result"
    }
   ],
   "source": [
    "output = m(input)\n",
    "output"
   ]
  },
  {
   "cell_type": "code",
   "execution_count": 69,
   "metadata": {},
   "outputs": [
    {
     "data": {
      "text/plain": [
       "tensor([[-0.6977],\n",
       "        [ 0.3054]])"
      ]
     },
     "execution_count": 69,
     "metadata": {},
     "output_type": "execute_result"
    }
   ],
   "source": [
    "m = nn.Linear(1, 2)\n",
    "input = torch.randn(2, 1)\n",
    "input"
   ]
  },
  {
   "cell_type": "code",
   "execution_count": 70,
   "metadata": {},
   "outputs": [
    {
     "data": {
      "text/plain": [
       "tensor([[-0.2922,  0.5006],\n",
       "        [ 0.4798,  1.0126]], grad_fn=<AddmmBackward0>)"
      ]
     },
     "execution_count": 70,
     "metadata": {},
     "output_type": "execute_result"
    }
   ],
   "source": [
    "m(input)"
   ]
  },
  {
   "cell_type": "code",
   "execution_count": 79,
   "metadata": {},
   "outputs": [
    {
     "data": {
      "text/plain": [
       "Parameter containing:\n",
       "tensor([[0.7696],\n",
       "        [0.5105]], requires_grad=True)"
      ]
     },
     "execution_count": 79,
     "metadata": {},
     "output_type": "execute_result"
    }
   ],
   "source": [
    "m.weight"
   ]
  }
 ],
 "metadata": {
  "kernelspec": {
   "display_name": "base",
   "language": "python",
   "name": "python3"
  },
  "language_info": {
   "codemirror_mode": {
    "name": "ipython",
    "version": 3
   },
   "file_extension": ".py",
   "mimetype": "text/x-python",
   "name": "python",
   "nbconvert_exporter": "python",
   "pygments_lexer": "ipython3",
   "version": "3.9.16"
  },
  "orig_nbformat": 4,
  "vscode": {
   "interpreter": {
    "hash": "7bcaf75e6bc6c537ef58062b487002d5629cb7f467ef7274c6c1c158fb2066a9"
   }
  }
 },
 "nbformat": 4,
 "nbformat_minor": 2
}
